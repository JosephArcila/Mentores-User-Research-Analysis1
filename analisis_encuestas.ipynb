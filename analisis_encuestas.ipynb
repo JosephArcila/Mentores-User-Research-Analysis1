{
 "cells": [
  {
   "cell_type": "code",
   "execution_count": 3,
   "metadata": {},
   "outputs": [],
   "source": [
    "import pandas as pd\n",
    "import matplotlib.pyplot as plt\n",
    "import seaborn as sns"
   ]
  },
  {
   "cell_type": "code",
   "execution_count": 4,
   "metadata": {},
   "outputs": [],
   "source": [
    "results = pd.read_csv('respuestas_encuestas.csv')\n"
   ]
  },
  {
   "cell_type": "code",
   "execution_count": 5,
   "metadata": {},
   "outputs": [
    {
     "data": {
      "text/plain": [
       "Index(['Timestamp', 'Email Address',\n",
       "       '1. ¿Qué tan cómodo/a te sientes usando plataformas online para resolver tus problemas?',\n",
       "       '2. ¿Qué tan fácil ha sido para ti encontrar personas con intereses mutuos?',\n",
       "       '3. ¿Qué tan fácil ha sido para ti encontrar a personas apasionadas por un tema que hayas necesitado?',\n",
       "       '4. ¿Qué tan fácil ha sido para ti encontrar a alguien que te ayude a aliviar un dolor físico, o el de un querido?',\n",
       "       '5. ¿Qué tan fácil ha sido para ti encontrar a alguien que te ayude a aliviar un dolor emocional, o el de un querido?',\n",
       "       '6. Evalúa tu nivel de comodidad al ofrecer tu ayuda a un desconocido en un tema que conoces',\n",
       "       '7. ¿Qué te motiva más para ofrecer ayuda a los demás?',\n",
       "       '8. ¿En qué temas has necesitado ayuda personalizada de alguien?',\n",
       "       '9. ¿Estás necesitando la ayuda personalizada de alguien?',\n",
       "       '10. ¿Quieres que te avisemos cuando creemos la primera versión funcional de http://www.mentores.xyz/ ?',\n",
       "       '11. ¿Has pagado por recibir una ayuda personalizada online de alguien?',\n",
       "       '12. ¿Cual es la aplicación o sitio web que te produce mas felicidad al usar? y por favor cuentanos ¿Por qué?',\n",
       "       '13. ¿Cuál es tu método de pago principal cuando compras online?',\n",
       "       '14. ¿A qué te dedicas?',\n",
       "       '15. ¿Cuáles son tus temas de interés favoritos?',\n",
       "       '16. ¿Qué edad tienes?',\n",
       "       ' 17. ¿Cuál es tú nivel socio económico (estrato)?',\n",
       "       '18. ¿Hay alguna pregunta que no tenga sentido para ti? ¿Por qué?',\n",
       "       '19. ¿Hay alguna pregunta que no pudiste responder o le faltaba la respuesta que querías dar?'],\n",
       "      dtype='object')"
      ]
     },
     "execution_count": 5,
     "metadata": {},
     "output_type": "execute_result"
    }
   ],
   "source": [
    "results.columns"
   ]
  },
  {
   "cell_type": "markdown",
   "metadata": {},
   "source": [
    "## Limpieza de datos"
   ]
  },
  {
   "cell_type": "code",
   "execution_count": 6,
   "metadata": {},
   "outputs": [],
   "source": [
    "results = results.replace('Sentir que has ayudado', 'Sentir que contribuí')\n",
    "bias = [9, 10, 11, 12, 13, 14, 16, 19, 21, 28, 42, 46, 51, 54]\n",
    "rsb = results.drop(bias)"
   ]
  },
  {
   "cell_type": "markdown",
   "metadata": {},
   "source": [
    "# Objetivo: Identificar los usuarios que más se beneficiarán con el producto inicial"
   ]
  },
  {
   "cell_type": "markdown",
   "metadata": {},
   "source": [
    "## Hipotesis 1: Las personas estarán motivadas a usar la app para facilitar su interacción con gente de intereses mutuos"
   ]
  },
  {
   "cell_type": "markdown",
   "metadata": {},
   "source": [
    "### P2 - P10\n",
    "### Personas que se les ha dificultado encontrar personas con intereses mútuos"
   ]
  },
  {
   "cell_type": "code",
   "execution_count": 7,
   "metadata": {},
   "outputs": [
    {
     "data": {
      "text/html": [
       "<div>\n",
       "<style scoped>\n",
       "    .dataframe tbody tr th:only-of-type {\n",
       "        vertical-align: middle;\n",
       "    }\n",
       "\n",
       "    .dataframe tbody tr th {\n",
       "        vertical-align: top;\n",
       "    }\n",
       "\n",
       "    .dataframe thead th {\n",
       "        text-align: right;\n",
       "    }\n",
       "</style>\n",
       "<table border=\"1\" class=\"dataframe\">\n",
       "  <thead>\n",
       "    <tr style=\"text-align: right;\">\n",
       "      <th></th>\n",
       "      <th>2. ¿Qué tan fácil ha sido para ti encontrar personas con intereses mutuos?</th>\n",
       "      <th>10. ¿Quieres que te avisemos cuando creemos la primera versión funcional de http://www.mentores.xyz/ ?</th>\n",
       "    </tr>\n",
       "  </thead>\n",
       "  <tbody>\n",
       "    <tr>\n",
       "      <th>4</th>\n",
       "      <td>1</td>\n",
       "      <td>Sí</td>\n",
       "    </tr>\n",
       "    <tr>\n",
       "      <th>24</th>\n",
       "      <td>1</td>\n",
       "      <td>Sí</td>\n",
       "    </tr>\n",
       "    <tr>\n",
       "      <th>27</th>\n",
       "      <td>2</td>\n",
       "      <td>Sí</td>\n",
       "    </tr>\n",
       "    <tr>\n",
       "      <th>31</th>\n",
       "      <td>1</td>\n",
       "      <td>Sí</td>\n",
       "    </tr>\n",
       "    <tr>\n",
       "      <th>33</th>\n",
       "      <td>2</td>\n",
       "      <td>Sí</td>\n",
       "    </tr>\n",
       "    <tr>\n",
       "      <th>55</th>\n",
       "      <td>2</td>\n",
       "      <td>Sí</td>\n",
       "    </tr>\n",
       "    <tr>\n",
       "      <th>62</th>\n",
       "      <td>2</td>\n",
       "      <td>Sí</td>\n",
       "    </tr>\n",
       "    <tr>\n",
       "      <th>63</th>\n",
       "      <td>2</td>\n",
       "      <td>Sí</td>\n",
       "    </tr>\n",
       "    <tr>\n",
       "      <th>65</th>\n",
       "      <td>2</td>\n",
       "      <td>Sí</td>\n",
       "    </tr>\n",
       "  </tbody>\n",
       "</table>\n",
       "</div>"
      ],
      "text/plain": [
       "    2. ¿Qué tan fácil ha sido para ti encontrar personas con intereses mutuos?  \\\n",
       "4                                                   1                            \n",
       "24                                                  1                            \n",
       "27                                                  2                            \n",
       "31                                                  1                            \n",
       "33                                                  2                            \n",
       "55                                                  2                            \n",
       "62                                                  2                            \n",
       "63                                                  2                            \n",
       "65                                                  2                            \n",
       "\n",
       "   10. ¿Quieres que te avisemos cuando creemos la primera versión funcional de http://www.mentores.xyz/ ?  \n",
       "4                                                  Sí                                                      \n",
       "24                                                 Sí                                                      \n",
       "27                                                 Sí                                                      \n",
       "31                                                 Sí                                                      \n",
       "33                                                 Sí                                                      \n",
       "55                                                 Sí                                                      \n",
       "62                                                 Sí                                                      \n",
       "63                                                 Sí                                                      \n",
       "65                                                 Sí                                                      "
      ]
     },
     "execution_count": 7,
     "metadata": {},
     "output_type": "execute_result"
    }
   ],
   "source": [
    "r2_10 = rsb[['2. ¿Qué tan fácil ha sido para ti encontrar personas con intereses mutuos?', '10. ¿Quieres que te avisemos cuando creemos la primera versión funcional de http://www.mentores.xyz/ ?']]\n",
    "r2_10_int_dif = r2_10[r2_10['2. ¿Qué tan fácil ha sido para ti encontrar personas con intereses mutuos?']<3]\n",
    "r2_10_int_dif"
   ]
  },
  {
   "cell_type": "markdown",
   "metadata": {},
   "source": [
    "## Personas que les ha parecido fácil encontrar personas con intereses mutuos"
   ]
  },
  {
   "cell_type": "code",
   "execution_count": 8,
   "metadata": {},
   "outputs": [
    {
     "data": {
      "text/html": [
       "<div>\n",
       "<style scoped>\n",
       "    .dataframe tbody tr th:only-of-type {\n",
       "        vertical-align: middle;\n",
       "    }\n",
       "\n",
       "    .dataframe tbody tr th {\n",
       "        vertical-align: top;\n",
       "    }\n",
       "\n",
       "    .dataframe thead th {\n",
       "        text-align: right;\n",
       "    }\n",
       "</style>\n",
       "<table border=\"1\" class=\"dataframe\">\n",
       "  <thead>\n",
       "    <tr style=\"text-align: right;\">\n",
       "      <th></th>\n",
       "      <th>2. ¿Qué tan fácil ha sido para ti encontrar personas con intereses mutuos?</th>\n",
       "      <th>10. ¿Quieres que te avisemos cuando creemos la primera versión funcional de http://www.mentores.xyz/ ?</th>\n",
       "    </tr>\n",
       "  </thead>\n",
       "  <tbody>\n",
       "    <tr>\n",
       "      <th>0</th>\n",
       "      <td>4</td>\n",
       "      <td>No</td>\n",
       "    </tr>\n",
       "    <tr>\n",
       "      <th>3</th>\n",
       "      <td>4</td>\n",
       "      <td>Sí</td>\n",
       "    </tr>\n",
       "    <tr>\n",
       "      <th>5</th>\n",
       "      <td>5</td>\n",
       "      <td>Sí</td>\n",
       "    </tr>\n",
       "    <tr>\n",
       "      <th>7</th>\n",
       "      <td>5</td>\n",
       "      <td>Sí</td>\n",
       "    </tr>\n",
       "    <tr>\n",
       "      <th>18</th>\n",
       "      <td>5</td>\n",
       "      <td>Sí</td>\n",
       "    </tr>\n",
       "    <tr>\n",
       "      <th>22</th>\n",
       "      <td>5</td>\n",
       "      <td>Sí</td>\n",
       "    </tr>\n",
       "    <tr>\n",
       "      <th>23</th>\n",
       "      <td>4</td>\n",
       "      <td>Sí</td>\n",
       "    </tr>\n",
       "    <tr>\n",
       "      <th>25</th>\n",
       "      <td>4</td>\n",
       "      <td>Sí</td>\n",
       "    </tr>\n",
       "    <tr>\n",
       "      <th>30</th>\n",
       "      <td>4</td>\n",
       "      <td>Sí</td>\n",
       "    </tr>\n",
       "    <tr>\n",
       "      <th>35</th>\n",
       "      <td>4</td>\n",
       "      <td>No</td>\n",
       "    </tr>\n",
       "    <tr>\n",
       "      <th>37</th>\n",
       "      <td>4</td>\n",
       "      <td>Sí</td>\n",
       "    </tr>\n",
       "    <tr>\n",
       "      <th>40</th>\n",
       "      <td>4</td>\n",
       "      <td>Sí</td>\n",
       "    </tr>\n",
       "    <tr>\n",
       "      <th>47</th>\n",
       "      <td>4</td>\n",
       "      <td>Sí</td>\n",
       "    </tr>\n",
       "    <tr>\n",
       "      <th>48</th>\n",
       "      <td>5</td>\n",
       "      <td>Sí</td>\n",
       "    </tr>\n",
       "    <tr>\n",
       "      <th>50</th>\n",
       "      <td>4</td>\n",
       "      <td>Sí</td>\n",
       "    </tr>\n",
       "    <tr>\n",
       "      <th>52</th>\n",
       "      <td>5</td>\n",
       "      <td>Sí</td>\n",
       "    </tr>\n",
       "    <tr>\n",
       "      <th>53</th>\n",
       "      <td>5</td>\n",
       "      <td>Sí</td>\n",
       "    </tr>\n",
       "    <tr>\n",
       "      <th>57</th>\n",
       "      <td>5</td>\n",
       "      <td>Sí</td>\n",
       "    </tr>\n",
       "    <tr>\n",
       "      <th>58</th>\n",
       "      <td>4</td>\n",
       "      <td>Sí</td>\n",
       "    </tr>\n",
       "    <tr>\n",
       "      <th>61</th>\n",
       "      <td>4</td>\n",
       "      <td>Sí</td>\n",
       "    </tr>\n",
       "    <tr>\n",
       "      <th>64</th>\n",
       "      <td>5</td>\n",
       "      <td>Sí</td>\n",
       "    </tr>\n",
       "  </tbody>\n",
       "</table>\n",
       "</div>"
      ],
      "text/plain": [
       "    2. ¿Qué tan fácil ha sido para ti encontrar personas con intereses mutuos?  \\\n",
       "0                                                   4                            \n",
       "3                                                   4                            \n",
       "5                                                   5                            \n",
       "7                                                   5                            \n",
       "18                                                  5                            \n",
       "22                                                  5                            \n",
       "23                                                  4                            \n",
       "25                                                  4                            \n",
       "30                                                  4                            \n",
       "35                                                  4                            \n",
       "37                                                  4                            \n",
       "40                                                  4                            \n",
       "47                                                  4                            \n",
       "48                                                  5                            \n",
       "50                                                  4                            \n",
       "52                                                  5                            \n",
       "53                                                  5                            \n",
       "57                                                  5                            \n",
       "58                                                  4                            \n",
       "61                                                  4                            \n",
       "64                                                  5                            \n",
       "\n",
       "   10. ¿Quieres que te avisemos cuando creemos la primera versión funcional de http://www.mentores.xyz/ ?  \n",
       "0                                                  No                                                      \n",
       "3                                                  Sí                                                      \n",
       "5                                                  Sí                                                      \n",
       "7                                                  Sí                                                      \n",
       "18                                                 Sí                                                      \n",
       "22                                                 Sí                                                      \n",
       "23                                                 Sí                                                      \n",
       "25                                                 Sí                                                      \n",
       "30                                                 Sí                                                      \n",
       "35                                                 No                                                      \n",
       "37                                                 Sí                                                      \n",
       "40                                                 Sí                                                      \n",
       "47                                                 Sí                                                      \n",
       "48                                                 Sí                                                      \n",
       "50                                                 Sí                                                      \n",
       "52                                                 Sí                                                      \n",
       "53                                                 Sí                                                      \n",
       "57                                                 Sí                                                      \n",
       "58                                                 Sí                                                      \n",
       "61                                                 Sí                                                      \n",
       "64                                                 Sí                                                      "
      ]
     },
     "execution_count": 8,
     "metadata": {},
     "output_type": "execute_result"
    }
   ],
   "source": [
    "r2_10_int_fac = r2_10[r2_10['2. ¿Qué tan fácil ha sido para ti encontrar personas con intereses mutuos?']>3]\n",
    "r2_10_int_fac"
   ]
  },
  {
   "cell_type": "markdown",
   "metadata": {},
   "source": [
    "### P15 -  P10"
   ]
  },
  {
   "cell_type": "code",
   "execution_count": 8,
   "metadata": {},
   "outputs": [
    {
     "data": {
      "text/plain": [
       "Sentir que contribuí                          55\n",
       "Promocionarse                                  3\n",
       "Me gusta saber que puedo ayudar                2\n",
       "ganar dinero                                   2\n",
       "Promocionarme                                  1\n",
       "Un poco de todo                                1\n",
       "Capacidad de servicio                          1\n",
       "Depende del tiempo que tenga que dedicarle     1\n",
       "No se                                          1\n",
       "Name: 7. ¿Qué te motiva más para ofrecer ayuda a los demás?, dtype: int64"
      ]
     },
     "execution_count": 8,
     "metadata": {},
     "output_type": "execute_result"
    }
   ],
   "source": [
    "siete = results[['7. ¿Qué te motiva más para ofrecer ayuda a los demás?']]\n",
    "siete['7. ¿Qué te motiva más para ofrecer ayuda a los demás?'].value_counts()"
   ]
  },
  {
   "cell_type": "code",
   "execution_count": 10,
   "metadata": {},
   "outputs": [
    {
     "data": {
      "image/png": "[encoded data removed]",
      "text/plain": [
       "<Figure size 432x288 with 2 Axes>"
      ]
     },
     "metadata": {},
     "output_type": "display_data"
    }
   ],
   "source": [
    "h1 = rsb[['2. ¿Qué tan fácil ha sido para ti encontrar personas con intereses mutuos?', '15. ¿Cuáles son tus temas de interés favoritos?', '10. ¿Quieres que te avisemos cuando creemos la primera versión funcional de http://www.mentores.xyz/ ?']]\n",
    "intereses_dificiles = h1[h1['2. ¿Qué tan fácil ha sido para ti encontrar personas con intereses mutuos?']<3]\n",
    "intereses_dificiles_sinbias = intereses_dificiles.replace({'Sí': True, 'No': False})\n",
    "\n",
    "h1 = results[['2. ¿Qué tan fácil ha sido para ti encontrar personas con intereses mutuos?', '15. ¿Cuáles son tus temas de interés favoritos?', '10. ¿Quieres que te avisemos cuando creemos la primera versión funcional de http://www.mentores.xyz/ ?']]\n",
    "intereses_faciles = h1[h1['2. ¿Qué tan fácil ha sido para ti encontrar personas con intereses mutuos?']>3]\n",
    "intereses_faciles_sinbias = intereses_faciles.replace({'Sí': True, 'No': False})\n",
    "\n",
    "tot_int_facil = intereses_faciles_sinbias['10. ¿Quieres que te avisemos cuando creemos la primera versión funcional de http://www.mentores.xyz/ ?'].value_counts()\n",
    "tot_int_dif = intereses_dificiles_sinbias['10. ¿Quieres que te avisemos cuando creemos la primera versión funcional de http://www.mentores.xyz/ ?'].value_counts()\n",
    "\n",
    "fig, (ax1, ax2) = plt.subplots(1, 2)\n",
    "# plot each pie chart in a separate subplot\n",
    "ax1.pie(tot_int_dif, labels=tot_int_dif)\n",
    "ax1.set_title('Dificil')\n",
    "ax1.legend(['notifiquenme', 'no me notifiquen'], loc = 'lower right')\n",
    "\n",
    "ax2.pie(tot_int_facil, labels=tot_int_facil)\n",
    "ax2.set_title('Facil')\n",
    "ax2.legend(['notifiquenme', 'no me notifiquen'], loc = 'lower right')\n",
    "\n",
    "fig.suptitle('Facilidad de encontrar a personas con intereses mutuos', fontsize=16)\n",
    "plt.show()"
   ]
  },
  {
   "cell_type": "markdown",
   "metadata": {},
   "source": [
    "## H2 las personas que tengan una necesidad de una asistencia o asesoria usaran la app aun en su version pobre\n",
    "## H6 los que necesitan ayuda personalizada y urgente son los que necesitan de mentores.xyz ahora mismo\n",
    "\n",
    "### P9 - P10"
   ]
  },
  {
   "cell_type": "code",
   "execution_count": 11,
   "metadata": {},
   "outputs": [],
   "source": [
    "r9_10 = rsb[['9. ¿Estás necesitando la ayuda personalizada de alguien?', '10. ¿Quieres que te avisemos cuando creemos la primera versión funcional de http://www.mentores.xyz/ ?']]"
   ]
  },
  {
   "cell_type": "code",
   "execution_count": 9,
   "metadata": {},
   "outputs": [],
   "source": [
    "h2 = results[['9. ¿Estás necesitando la ayuda personalizada de alguien?', '10. ¿Quieres que te avisemos cuando creemos la primera versión funcional de http://www.mentores.xyz/ ?']]\n",
    "si_urg = h2[h2['9. ¿Estás necesitando la ayuda personalizada de alguien?']=='Sí, urgentemente']['10. ¿Quieres que te avisemos cuando creemos la primera versión funcional de http://www.mentores.xyz/ ?'].value_counts()\n",
    "si = h2[h2['9. ¿Estás necesitando la ayuda personalizada de alguien?']=='si']['10. ¿Quieres que te avisemos cuando creemos la primera versión funcional de http://www.mentores.xyz/ ?'].value_counts()\n",
    "no = h2[h2['9. ¿Estás necesitando la ayuda personalizada de alguien?']=='no']['10. ¿Quieres que te avisemos cuando creemos la primera versión funcional de http://www.mentores.xyz/ ?'].value_counts()\n",
    "No_se = h2[h2['9. ¿Estás necesitando la ayuda personalizada de alguien?']=='No se']['10. ¿Quieres que te avisemos cuando creemos la primera versión funcional de http://www.mentores.xyz/ ?'].value_counts()"
   ]
  },
  {
   "cell_type": "code",
   "execution_count": 10,
   "metadata": {},
   "outputs": [
    {
     "data": {
      "image/png": "[encoded data removed]",
      "text/plain": [
       "<Figure size 720x216 with 4 Axes>"
      ]
     },
     "metadata": {
      "needs_background": "light"
     },
     "output_type": "display_data"
    }
   ],
   "source": [
    "fig = plt.figure(figsize=(10, 3))\n",
    "\n",
    "# Generate a grid of 2x2 subplots and get\n",
    "# axes object for 1st location\n",
    "ax1 = fig.add_subplot(1,4,1)\n",
    "ax1.set_title('Si, urgentemente')\n",
    "ax1.bar(si_urg.index, si_urg.values)\n",
    "\n",
    "# Get the axes object for subplot at 2nd \n",
    "# location\n",
    "ax2 = fig.add_subplot(1,4,2)\n",
    "ax2.set_title('Si')\n",
    "ax2.bar(si.index, si.values)\n",
    "\n",
    "# Get the axes object for subplot at 3rd \n",
    "# location\n",
    "ax3 = fig.add_subplot(1,4,3)\n",
    "ax3.set_title('No se')\n",
    "ax3.bar(No_se.index, No_se.values)\n",
    "\n",
    "# Get the axes object for subplot at 4th \n",
    "# location\n",
    "ax4 = fig.add_subplot(1,4,4)\n",
    "ax4.set_title('No')\n",
    "ax4.bar(no.index, no.values)\n",
    "\n",
    "# Display\n",
    "plt.show()"
   ]
  },
  {
   "cell_type": "markdown",
   "metadata": {},
   "source": [
    "## H3 algunos usuarios con dolor fisico y/o emocional usaran la app para aliviar su dolor"
   ]
  },
  {
   "cell_type": "code",
   "execution_count": 11,
   "metadata": {},
   "outputs": [
    {
     "data": {
      "text/plain": [
       "Sí    46\n",
       "No     7\n",
       "Name: 10. ¿Quieres que te avisemos cuando creemos la primera versión funcional de http://www.mentores.xyz/ ?, dtype: int64"
      ]
     },
     "execution_count": 11,
     "metadata": {},
     "output_type": "execute_result"
    }
   ],
   "source": [
    "general = rsb[['10. ¿Quieres que te avisemos cuando creemos la primera versión funcional de http://www.mentores.xyz/ ?']]\n",
    "general = general['10. ¿Quieres que te avisemos cuando creemos la primera versión funcional de http://www.mentores.xyz/ ?'].value_counts()\n",
    "general"
   ]
  },
  {
   "cell_type": "code",
   "execution_count": 14,
   "metadata": {},
   "outputs": [
    {
     "data": {
      "text/plain": [
       "<matplotlib.axes._subplots.AxesSubplot at 0x1fb341da198>"
      ]
     },
     "execution_count": 14,
     "metadata": {},
     "output_type": "execute_result"
    },
    {
     "data": {
      "image/png": "[encoded data removed]",
      "text/plain": [
       "<Figure size 432x288 with 1 Axes>"
      ]
     },
     "metadata": {
      "needs_background": "light"
     },
     "output_type": "display_data"
    }
   ],
   "source": [
    "sns.barplot(general.index, general.values)"
   ]
  },
  {
   "cell_type": "code",
   "execution_count": 12,
   "metadata": {},
   "outputs": [],
   "source": [
    "r1_4_10 = rsb[['1. ¿Qué tan cómodo/a te sientes usando plataformas online para resolver tus problemas?', '4. ¿Qué tan fácil ha sido para ti encontrar a alguien que te ayude a aliviar un dolor físico, o el de un querido?', '10. ¿Quieres que te avisemos cuando creemos la primera versión funcional de http://www.mentores.xyz/ ?']]\n",
    "comodo = r1_4_10[r1_4_10['1. ¿Qué tan cómodo/a te sientes usando plataformas online para resolver tus problemas?']>3]\n",
    "dificil_fis = comodo[comodo['4. ¿Qué tan fácil ha sido para ti encontrar a alguien que te ayude a aliviar un dolor físico, o el de un querido?']<3]\n",
    "dificil_fis = dificil_fis['10. ¿Quieres que te avisemos cuando creemos la primera versión funcional de http://www.mentores.xyz/ ?']\n",
    "dificil_fis = dificil_fis.value_counts()"
   ]
  },
  {
   "cell_type": "code",
   "execution_count": 15,
   "metadata": {},
   "outputs": [
    {
     "data": {
      "text/plain": [
       "<matplotlib.axes._subplots.AxesSubplot at 0x1fb355feb70>"
      ]
     },
     "execution_count": 15,
     "metadata": {},
     "output_type": "execute_result"
    },
    {
     "data": {
      "image/png": "[encoded data removed]",
      "text/plain": [
       "<Figure size 432x288 with 1 Axes>"
      ]
     },
     "metadata": {
      "needs_background": "light"
     },
     "output_type": "display_data"
    }
   ],
   "source": [
    "sns.barplot(dificil_fis.index, dificil_fis.values)"
   ]
  },
  {
   "cell_type": "code",
   "execution_count": 13,
   "metadata": {},
   "outputs": [],
   "source": [
    "r1_5_10 = rsb[['1. ¿Qué tan cómodo/a te sientes usando plataformas online para resolver tus problemas?', '5. ¿Qué tan fácil ha sido para ti encontrar a alguien que te ayude a aliviar un dolor emocional, o el de un querido?', '10. ¿Quieres que te avisemos cuando creemos la primera versión funcional de http://www.mentores.xyz/ ?']]\n",
    "comodo = r1_5_10[r1_5_10['1. ¿Qué tan cómodo/a te sientes usando plataformas online para resolver tus problemas?']>3]\n",
    "dificil_emo = comodo[comodo['5. ¿Qué tan fácil ha sido para ti encontrar a alguien que te ayude a aliviar un dolor emocional, o el de un querido?']<3]\n",
    "dificil_emo = dificil_emo['10. ¿Quieres que te avisemos cuando creemos la primera versión funcional de http://www.mentores.xyz/ ?']\n",
    "dificil_emo = dificil_emo.value_counts()"
   ]
  },
  {
   "cell_type": "code",
   "execution_count": 16,
   "metadata": {},
   "outputs": [
    {
     "data": {
      "text/plain": [
       "<matplotlib.axes._subplots.AxesSubplot at 0x1fb35656860>"
      ]
     },
     "execution_count": 16,
     "metadata": {},
     "output_type": "execute_result"
    },
    {
     "data": {
      "image/png": "[encoded data removed]",
      "text/plain": [
       "<Figure size 432x288 with 1 Axes>"
      ]
     },
     "metadata": {
      "needs_background": "light"
     },
     "output_type": "display_data"
    }
   ],
   "source": [
    "sns.barplot(dificil_emo.index, dificil_emo.values)"
   ]
  },
  {
   "cell_type": "code",
   "execution_count": 17,
   "metadata": {},
   "outputs": [
    {
     "data": {
      "image/png": "[encoded data removed]",
      "text/plain": [
       "<Figure size 720x216 with 3 Axes>"
      ]
     },
     "metadata": {
      "needs_background": "light"
     },
     "output_type": "display_data"
    }
   ],
   "source": [
    "fig = plt.figure(figsize=(10, 3))\n",
    "\n",
    "# Generate a grid of 2x2 subplots and get\n",
    "# axes object for 1st location\n",
    "ax1 = fig.add_subplot(1,3,1)\n",
    "ax1.set_title('Dificil conseguir ayuda para dolor Físico')\n",
    "ax1.bar(dificil_fis.index, dificil_fis.values)\n",
    "\n",
    "# Get the axes object for subplot at 2nd \n",
    "# location\n",
    "ax2 = fig.add_subplot(1,3,2)\n",
    "ax2.set_title('General')\n",
    "ax2.bar(general.index, general.values)\n",
    "\n",
    "# Get the axes object for subplot at 3rd \n",
    "# location\n",
    "ax3 = fig.add_subplot(1,3,3)\n",
    "ax3.set_title('Dificil conseguir ayuda para dolor Emocional')\n",
    "ax3.bar(dificil_emo.index, dificil_emo.values)\n",
    "\n",
    "# Display\n",
    "plt.show()"
   ]
  },
  {
   "cell_type": "code",
   "execution_count": 23,
   "metadata": {
    "scrolled": true
   },
   "outputs": [],
   "source": [
    "H3 = rsb.drop(columns=['Timestamp', '1. ¿Qué tan cómodo/a te sientes usando plataformas online para resolver tus problemas?', '2. ¿Qué tan fácil ha sido para ti encontrar personas con intereses mutuos?', '3. ¿Qué tan fácil ha sido para ti encontrar a personas apasionadas por un tema que hayas necesitado?', '6. Evalúa tu nivel de comodidad al ofrecer tu ayuda a un desconocido en un tema que conoces', '7. ¿Qué te motiva más para ofrecer ayuda a los demás?', '13. ¿Cuál es tu método de pago principal cuando compras online?', '14. ¿A qué te dedicas?', '15. ¿Cuáles son tus temas de interés favoritos?', '18. ¿Hay alguna pregunta que no tenga sentido para ti? ¿Por qué?', '19. ¿Hay alguna pregunta que no pudiste responder o le faltaba la respuesta que querías dar?'])\n",
    "ayuda_fisica = H3[H3['4. ¿Qué tan fácil ha sido para ti encontrar a alguien que te ayude a aliviar un dolor físico, o el de un querido?']<2]\n",
    "ayuda_emocional = H3[H3['5. ¿Qué tan fácil ha sido para ti encontrar a alguien que te ayude a aliviar un dolor emocional, o el de un querido?']<2]"
   ]
  },
  {
   "cell_type": "code",
   "execution_count": 20,
   "metadata": {},
   "outputs": [
    {
     "data": {
      "text/html": [
       "<div>\n",
       "<style scoped>\n",
       "    .dataframe tbody tr th:only-of-type {\n",
       "        vertical-align: middle;\n",
       "    }\n",
       "\n",
       "    .dataframe tbody tr th {\n",
       "        vertical-align: top;\n",
       "    }\n",
       "\n",
       "    .dataframe thead th {\n",
       "        text-align: right;\n",
       "    }\n",
       "</style>\n",
       "<table border=\"1\" class=\"dataframe\">\n",
       "  <thead>\n",
       "    <tr style=\"text-align: right;\">\n",
       "      <th></th>\n",
       "      <th>8. ¿En qué temas has necesitado ayuda personalizada de alguien?</th>\n",
       "      <th>9. ¿Estás necesitando la ayuda personalizada de alguien?</th>\n",
       "      <th>10. ¿Quieres que te avisemos cuando creemos la primera versión funcional de http://www.mentores.xyz/ ?</th>\n",
       "    </tr>\n",
       "  </thead>\n",
       "  <tbody>\n",
       "    <tr>\n",
       "      <th>20</th>\n",
       "      <td>Dietas, alimentación</td>\n",
       "      <td>No se</td>\n",
       "      <td>Sí</td>\n",
       "    </tr>\n",
       "    <tr>\n",
       "      <th>52</th>\n",
       "      <td>Duelos y pérdidas</td>\n",
       "      <td>si</td>\n",
       "      <td>Sí</td>\n",
       "    </tr>\n",
       "  </tbody>\n",
       "</table>\n",
       "</div>"
      ],
      "text/plain": [
       "   8. ¿En qué temas has necesitado ayuda personalizada de alguien?  \\\n",
       "20                              Dietas, alimentación                 \n",
       "52                                 Duelos y pérdidas                 \n",
       "\n",
       "   9. ¿Estás necesitando la ayuda personalizada de alguien?  \\\n",
       "20                                              No se         \n",
       "52                                                 si         \n",
       "\n",
       "   10. ¿Quieres que te avisemos cuando creemos la primera versión funcional de http://www.mentores.xyz/ ?  \n",
       "20                                                 Sí                                                      \n",
       "52                                                 Sí                                                      "
      ]
     },
     "execution_count": 20,
     "metadata": {},
     "output_type": "execute_result"
    }
   ],
   "source": [
    "ayuda_fisica_si = ayuda_fisica[['8. ¿En qué temas has necesitado ayuda personalizada de alguien?', '9. ¿Estás necesitando la ayuda personalizada de alguien?', '10. ¿Quieres que te avisemos cuando creemos la primera versión funcional de http://www.mentores.xyz/ ?']]\n",
    "ayuda_fisica_si[ayuda_fisica_si['9. ¿Estás necesitando la ayuda personalizada de alguien?']!='no']"
   ]
  },
  {
   "cell_type": "code",
   "execution_count": 21,
   "metadata": {},
   "outputs": [
    {
     "data": {
      "text/html": [
       "<div>\n",
       "<style scoped>\n",
       "    .dataframe tbody tr th:only-of-type {\n",
       "        vertical-align: middle;\n",
       "    }\n",
       "\n",
       "    .dataframe tbody tr th {\n",
       "        vertical-align: top;\n",
       "    }\n",
       "\n",
       "    .dataframe thead th {\n",
       "        text-align: right;\n",
       "    }\n",
       "</style>\n",
       "<table border=\"1\" class=\"dataframe\">\n",
       "  <thead>\n",
       "    <tr style=\"text-align: right;\">\n",
       "      <th></th>\n",
       "      <th>8. ¿En qué temas has necesitado ayuda personalizada de alguien?</th>\n",
       "      <th>9. ¿Estás necesitando la ayuda personalizada de alguien?</th>\n",
       "      <th>10. ¿Quieres que te avisemos cuando creemos la primera versión funcional de http://www.mentores.xyz/ ?</th>\n",
       "      <th>12. ¿Cual es la aplicación o sitio web que te produce mas felicidad al usar? y por favor cuentanos ¿Por qué?</th>\n",
       "    </tr>\n",
       "  </thead>\n",
       "  <tbody>\n",
       "    <tr>\n",
       "      <th>2</th>\n",
       "      <td>Emocional</td>\n",
       "      <td>Sí, urgentemente</td>\n",
       "      <td>Sí</td>\n",
       "      <td>Instagram, porque de alguna manera he creado v...</td>\n",
       "    </tr>\n",
       "    <tr>\n",
       "      <th>4</th>\n",
       "      <td>Salud mental</td>\n",
       "      <td>No se</td>\n",
       "      <td>Sí</td>\n",
       "      <td>Tik tok, me hace reir y aprender cosas en poco...</td>\n",
       "    </tr>\n",
       "    <tr>\n",
       "      <th>20</th>\n",
       "      <td>Dietas, alimentación</td>\n",
       "      <td>No se</td>\n",
       "      <td>Sí</td>\n",
       "      <td>Facebook, es de mi época</td>\n",
       "    </tr>\n",
       "    <tr>\n",
       "      <th>52</th>\n",
       "      <td>Duelos y pérdidas</td>\n",
       "      <td>si</td>\n",
       "      <td>Sí</td>\n",
       "      <td>Zoom. Es amigable y versátil.</td>\n",
       "    </tr>\n",
       "    <tr>\n",
       "      <th>56</th>\n",
       "      <td>Salud mental</td>\n",
       "      <td>No se</td>\n",
       "      <td>No</td>\n",
       "      <td>Spotify - la música me hace feliz (aunque no p...</td>\n",
       "    </tr>\n",
       "  </tbody>\n",
       "</table>\n",
       "</div>"
      ],
      "text/plain": [
       "   8. ¿En qué temas has necesitado ayuda personalizada de alguien?  \\\n",
       "2                                           Emocional                \n",
       "4                                        Salud mental                \n",
       "20                              Dietas, alimentación                 \n",
       "52                                 Duelos y pérdidas                 \n",
       "56                                       Salud mental                \n",
       "\n",
       "   9. ¿Estás necesitando la ayuda personalizada de alguien?  \\\n",
       "2                                    Sí, urgentemente         \n",
       "4                                               No se         \n",
       "20                                              No se         \n",
       "52                                                 si         \n",
       "56                                              No se         \n",
       "\n",
       "   10. ¿Quieres que te avisemos cuando creemos la primera versión funcional de http://www.mentores.xyz/ ?  \\\n",
       "2                                                  Sí                                                       \n",
       "4                                                  Sí                                                       \n",
       "20                                                 Sí                                                       \n",
       "52                                                 Sí                                                       \n",
       "56                                                 No                                                       \n",
       "\n",
       "   12. ¿Cual es la aplicación o sitio web que te produce mas felicidad al usar? y por favor cuentanos ¿Por qué?  \n",
       "2   Instagram, porque de alguna manera he creado v...                                                            \n",
       "4   Tik tok, me hace reir y aprender cosas en poco...                                                            \n",
       "20                          Facebook, es de mi época                                                             \n",
       "52                     Zoom. Es amigable y versátil.                                                             \n",
       "56  Spotify - la música me hace feliz (aunque no p...                                                            "
      ]
     },
     "execution_count": 21,
     "metadata": {},
     "output_type": "execute_result"
    }
   ],
   "source": [
    "ayuda_emocional_si = ayuda_emocional[['8. ¿En qué temas has necesitado ayuda personalizada de alguien?', '9. ¿Estás necesitando la ayuda personalizada de alguien?', '10. ¿Quieres que te avisemos cuando creemos la primera versión funcional de http://www.mentores.xyz/ ?', '12. ¿Cual es la aplicación o sitio web que te produce mas felicidad al usar? y por favor cuentanos ¿Por qué?']]\n",
    "ayuda_emocional_si[ayuda_emocional_si['9. ¿Estás necesitando la ayuda personalizada de alguien?']!='no']"
   ]
  },
  {
   "cell_type": "code",
   "execution_count": 22,
   "metadata": {},
   "outputs": [
    {
     "data": {
      "text/plain": [
       "<matplotlib.axes._subplots.AxesSubplot at 0x1fb357b8358>"
      ]
     },
     "execution_count": 22,
     "metadata": {},
     "output_type": "execute_result"
    },
    {
     "data": {
      "image/png": "[encoded data removed]",
      "text/plain": [
       "<Figure size 432x288 with 1 Axes>"
      ]
     },
     "metadata": {
      "needs_background": "light"
     },
     "output_type": "display_data"
    }
   ],
   "source": [
    "sns.violinplot(\n",
    "    data=[H3['4. ¿Qué tan fácil ha sido para ti encontrar a alguien que te ayude a aliviar un dolor físico, o el de un querido?'], H3['5. ¿Qué tan fácil ha sido para ti encontrar a alguien que te ayude a aliviar un dolor emocional, o el de un querido?']],\n",
    "    palette=[sns.xkcd_rgb[\"pale red\"], sns.xkcd_rgb[\"medium green\"]])"
   ]
  },
  {
   "cell_type": "markdown",
   "metadata": {},
   "source": [
    "## H4 los usuarios más felices son los que tengan sus expectativas satisfechas, y tuvieron una buena experiencia, en el caso de mentores, los que se sientan que han ayudado"
   ]
  },
  {
   "cell_type": "code",
   "execution_count": 24,
   "metadata": {},
   "outputs": [
    {
     "data": {
      "text/plain": [
       "Sentir que contribuí                          43\n",
       "ganar dinero                                   2\n",
       "Promocionarse                                  2\n",
       "No se                                          1\n",
       "Capacidad de servicio                          1\n",
       "Promocionarme                                  1\n",
       "Me gusta saber que puedo ayudar                1\n",
       "Depende del tiempo que tenga que dedicarle     1\n",
       "Un poco de todo                                1\n",
       "Name: 7. ¿Qué te motiva más para ofrecer ayuda a los demás?, dtype: int64"
      ]
     },
     "execution_count": 24,
     "metadata": {},
     "output_type": "execute_result"
    }
   ],
   "source": [
    "H4 = rsb[['6. Evalúa tu nivel de comodidad al ofrecer tu ayuda a un desconocido en un tema que conoces', '7. ¿Qué te motiva más para ofrecer ayuda a los demás?', '12. ¿Cual es la aplicación o sitio web que te produce mas felicidad al usar? y por favor cuentanos ¿Por qué?']]\n",
    "H4.replace('Sentir que has ayudado', 'Sentir que contribuí')['7. ¿Qué te motiva más para ofrecer ayuda a los demás?'].value_counts()"
   ]
  },
  {
   "cell_type": "code",
   "execution_count": 25,
   "metadata": {},
   "outputs": [
    {
     "name": "stdout",
     "output_type": "stream",
     "text": [
      "Son de mi gusto\n",
      "Ninguno\n",
      "Instagram, porque de alguna manera he creado vínculos y he recibido apoyo con lo que hago. \n",
      "Instagram - entretenimiento\n",
      "Tik tok, me hace reir y aprender cosas en pocos minutos\n",
      "Datacamp \n",
      "Mercado libre\n",
      "zoom cuando hago video llamada con mis sobrinos \n",
      "Reddit por todos los temas que puedo encontrar ahí \n",
      "Watsapp x comunicación\n",
      "Facebook, encuentro de todo\n",
      "Cgmakers\n",
      "Facebook, es de mi época \n",
      "Ninguna\n",
      "Facebook, Pinterest, duliong, YouTube\n",
      "Facebook \n",
      "TikTok porque aprendo qué están viviendo muchas personas alrededor del mundo\n",
      "redes sociales\n",
      "Ninguno \n",
      "Ninguna\n",
      "NINGUNA\n",
      "Google porque me instruye en temas que consulto\n",
      "Pornbhub\n",
      "Twitch/youtube diversidad de contenido\n",
      "Ninguno\n",
      "youtube.com\n",
      "Ninguna\n",
      "Instagram, por su contenido variado.\n",
      "Stackoverflow, por la facilidad para encontrar respuestas \n",
      "Youtube porque veo muchas cosas\n",
      "Ninguna soy despegado a ellas \n",
      "Directv go porque puede ver los partidos que me gustan en cualquier lugar y buena definición. La otra es tabtrader porque puede ver el movimiento de finanzas\n",
      "Valor de acciones (USAStocks, Fidelity) por inversión \n",
      "Audiolibros\n",
      "No he usado aun\n",
      ".\n",
      "YouTube por entretenimiento y aprendizaje\n",
      "No las uso\n",
      "\n",
      "YouTube , diversidad de temas\n",
      "Zoom. Es amigable y versátil. \n",
      "YouTube, Netflix. Porque puedo ver videos, series y tutoriales\n",
      "La verdad son muchas pero tener una en especial pues Consideró que Google por qué nos ayuda aliviar muchas dudas\n",
      "Spotify - la música me hace feliz (aunque no pagan suficiente a los artistas)\n",
      "YouTube por entretenimiento y aprendizaje\n",
      "Whatsapp\n",
      "Las de entretenimiento, más que felicidad te distraen como las aplicaciones de películas, y a los pequeños las de juegos. Las de lectura también son muy interesantes.\n",
      "Animeflv... Veo mi anime y ya :V\n",
      "Instagram. Encuentro perfiles e información de mi interés.\n",
      "instagram, porque puedo encontrar muchos temas de mi interes y conectar con infinidad de cuentas relacionadas con esos temas.\n",
      "Redes sociales, por amistad \n",
      "Google maps por ubicación \n",
      "Nunca he usado una\n",
      "Que sea ágil el sistema y sean respetuosos con el cliente. \n"
     ]
    }
   ],
   "source": [
    "for i in H4[['12. ¿Cual es la aplicación o sitio web que te produce mas felicidad al usar? y por favor cuentanos ¿Por qué?']]['12. ¿Cual es la aplicación o sitio web que te produce mas felicidad al usar? y por favor cuentanos ¿Por qué?']:\n",
    "    print(i)"
   ]
  },
  {
   "cell_type": "markdown",
   "metadata": {},
   "source": [
    "## H5 los mentores más demandados serán los que estén asesorando en temas en tendencia\n"
   ]
  },
  {
   "cell_type": "code",
   "execution_count": 29,
   "metadata": {},
   "outputs": [
    {
     "data": {
      "text/html": [
       "<div>\n",
       "<style scoped>\n",
       "    .dataframe tbody tr th:only-of-type {\n",
       "        vertical-align: middle;\n",
       "    }\n",
       "\n",
       "    .dataframe tbody tr th {\n",
       "        vertical-align: top;\n",
       "    }\n",
       "\n",
       "    .dataframe thead th {\n",
       "        text-align: right;\n",
       "    }\n",
       "</style>\n",
       "<table border=\"1\" class=\"dataframe\">\n",
       "  <thead>\n",
       "    <tr style=\"text-align: right;\">\n",
       "      <th></th>\n",
       "      <th>8. ¿En qué temas has necesitado ayuda personalizada de alguien?</th>\n",
       "      <th>11. ¿Has pagado por recibir una ayuda personalizada online de alguien?</th>\n",
       "      <th>15. ¿Cuáles son tus temas de interés favoritos?</th>\n",
       "    </tr>\n",
       "  </thead>\n",
       "  <tbody>\n",
       "    <tr>\n",
       "      <th>0</th>\n",
       "      <td>Inglés</td>\n",
       "      <td>No</td>\n",
       "      <td>Música</td>\n",
       "    </tr>\n",
       "    <tr>\n",
       "      <th>1</th>\n",
       "      <td>Estudio, psicología</td>\n",
       "      <td>No</td>\n",
       "      <td>Música, deportes, nutrición, ciencias sociales</td>\n",
       "    </tr>\n",
       "    <tr>\n",
       "      <th>2</th>\n",
       "      <td>Emocional</td>\n",
       "      <td>No</td>\n",
       "      <td>Arte/Filosofía</td>\n",
       "    </tr>\n",
       "    <tr>\n",
       "      <th>3</th>\n",
       "      <td>Psicologia</td>\n",
       "      <td>No</td>\n",
       "      <td>Deporte - comida - viajar</td>\n",
       "    </tr>\n",
       "    <tr>\n",
       "      <th>4</th>\n",
       "      <td>Salud mental</td>\n",
       "      <td>Si</td>\n",
       "      <td>Todo acecrca de salud mental</td>\n",
       "    </tr>\n",
       "  </tbody>\n",
       "</table>\n",
       "</div>"
      ],
      "text/plain": [
       "  8. ¿En qué temas has necesitado ayuda personalizada de alguien?  \\\n",
       "0                                             Inglés                \n",
       "1                                Estudio, psicología                \n",
       "2                                          Emocional                \n",
       "3                                         Psicologia                \n",
       "4                                       Salud mental                \n",
       "\n",
       "  11. ¿Has pagado por recibir una ayuda personalizada online de alguien?  \\\n",
       "0                                                 No                       \n",
       "1                                                 No                       \n",
       "2                                                 No                       \n",
       "3                                                 No                       \n",
       "4                                                 Si                       \n",
       "\n",
       "  15. ¿Cuáles son tus temas de interés favoritos?  \n",
       "0                                          Música  \n",
       "1  Música, deportes, nutrición, ciencias sociales  \n",
       "2                                 Arte/Filosofía   \n",
       "3                       Deporte - comida - viajar  \n",
       "4                   Todo acecrca de salud mental   "
      ]
     },
     "execution_count": 29,
     "metadata": {},
     "output_type": "execute_result"
    }
   ],
   "source": [
    "H5 = results[['8. ¿En qué temas has necesitado ayuda personalizada de alguien?', '11. ¿Has pagado por recibir una ayuda personalizada online de alguien?', '15. ¿Cuáles son tus temas de interés favoritos?']]\n",
    "H5.head()"
   ]
  },
  {
   "cell_type": "code",
   "execution_count": 30,
   "metadata": {},
   "outputs": [
    {
     "data": {
      "text/html": [
       "<div>\n",
       "<style scoped>\n",
       "    .dataframe tbody tr th:only-of-type {\n",
       "        vertical-align: middle;\n",
       "    }\n",
       "\n",
       "    .dataframe tbody tr th {\n",
       "        vertical-align: top;\n",
       "    }\n",
       "\n",
       "    .dataframe thead th {\n",
       "        text-align: right;\n",
       "    }\n",
       "</style>\n",
       "<table border=\"1\" class=\"dataframe\">\n",
       "  <thead>\n",
       "    <tr style=\"text-align: right;\">\n",
       "      <th></th>\n",
       "      <th>8. ¿En qué temas has necesitado ayuda personalizada de alguien?</th>\n",
       "      <th>15. ¿Cuáles son tus temas de interés favoritos?</th>\n",
       "    </tr>\n",
       "  </thead>\n",
       "  <tbody>\n",
       "    <tr>\n",
       "      <th>4</th>\n",
       "      <td>Salud mental</td>\n",
       "      <td>Todo acecrca de salud mental</td>\n",
       "    </tr>\n",
       "    <tr>\n",
       "      <th>5</th>\n",
       "      <td>coaching, estudio</td>\n",
       "      <td>Inteligencia emocional, data science</td>\n",
       "    </tr>\n",
       "    <tr>\n",
       "      <th>6</th>\n",
       "      <td>Compra</td>\n",
       "      <td>Compras</td>\n",
       "    </tr>\n",
       "    <tr>\n",
       "      <th>10</th>\n",
       "      <td>Muchos, salud, reparaciones, aficiones</td>\n",
       "      <td>Fotografia, viajes,  tutoriales</td>\n",
       "    </tr>\n",
       "    <tr>\n",
       "      <th>13</th>\n",
       "      <td>Nutrición, autoestima, economía</td>\n",
       "      <td>Salud, nutrición, ayudar a los animales</td>\n",
       "    </tr>\n",
       "  </tbody>\n",
       "</table>\n",
       "</div>"
      ],
      "text/plain": [
       "   8. ¿En qué temas has necesitado ayuda personalizada de alguien?  \\\n",
       "4                                        Salud mental                \n",
       "5                                  coaching, estudio                 \n",
       "6                                              Compra                \n",
       "10             Muchos, salud, reparaciones, aficiones                \n",
       "13                    Nutrición, autoestima, economía                \n",
       "\n",
       "   15. ¿Cuáles son tus temas de interés favoritos?  \n",
       "4                    Todo acecrca de salud mental   \n",
       "5            Inteligencia emocional, data science   \n",
       "6                                          Compras  \n",
       "10                 Fotografia, viajes,  tutoriales  \n",
       "13         Salud, nutrición, ayudar a los animales  "
      ]
     },
     "execution_count": 30,
     "metadata": {},
     "output_type": "execute_result"
    }
   ],
   "source": [
    "pagado = H5[H5['11. ¿Has pagado por recibir una ayuda personalizada online de alguien?'] == 'Si'][['8. ¿En qué temas has necesitado ayuda personalizada de alguien?', '15. ¿Cuáles son tus temas de interés favoritos?']]\n",
    "pagado.head()"
   ]
  },
  {
   "cell_type": "code",
   "execution_count": 31,
   "metadata": {},
   "outputs": [
    {
     "name": "stdout",
     "output_type": "stream",
     "text": [
      "Salud mental\n",
      "coaching, estudio \n",
      "Compra\n",
      "Muchos, salud, reparaciones, aficiones\n",
      "Nutrición, autoestima, economía\n",
      "Sistemas\n",
      "Capacitaciones\n",
      "Diseño\n",
      "Duelos y pérdidas \n",
      "Duelos y pérdidas \n",
      "Cuidado bebés \n",
      "aprendizaje de lenguas y terapias alternativas\n",
      "Informática \n",
      "Psicología \n"
     ]
    }
   ],
   "source": [
    "for i in pagado['8. ¿En qué temas has necesitado ayuda personalizada de alguien?']:\n",
    "    print(i)"
   ]
  },
  {
   "cell_type": "code",
   "execution_count": 33,
   "metadata": {},
   "outputs": [
    {
     "data": {
      "text/html": [
       "<div>\n",
       "<style scoped>\n",
       "    .dataframe tbody tr th:only-of-type {\n",
       "        vertical-align: middle;\n",
       "    }\n",
       "\n",
       "    .dataframe tbody tr th {\n",
       "        vertical-align: top;\n",
       "    }\n",
       "\n",
       "    .dataframe thead th {\n",
       "        text-align: right;\n",
       "    }\n",
       "</style>\n",
       "<table border=\"1\" class=\"dataframe\">\n",
       "  <thead>\n",
       "    <tr style=\"text-align: right;\">\n",
       "      <th></th>\n",
       "      <th>8. ¿En qué temas has necesitado ayuda personalizada de alguien?</th>\n",
       "      <th>15. ¿Cuáles son tus temas de interés favoritos?</th>\n",
       "    </tr>\n",
       "  </thead>\n",
       "  <tbody>\n",
       "    <tr>\n",
       "      <th>0</th>\n",
       "      <td>Inglés</td>\n",
       "      <td>Música</td>\n",
       "    </tr>\n",
       "    <tr>\n",
       "      <th>1</th>\n",
       "      <td>Estudio, psicología</td>\n",
       "      <td>Música, deportes, nutrición, ciencias sociales</td>\n",
       "    </tr>\n",
       "    <tr>\n",
       "      <th>2</th>\n",
       "      <td>Emocional</td>\n",
       "      <td>Arte/Filosofía</td>\n",
       "    </tr>\n",
       "    <tr>\n",
       "      <th>3</th>\n",
       "      <td>Psicologia</td>\n",
       "      <td>Deporte - comida - viajar</td>\n",
       "    </tr>\n",
       "    <tr>\n",
       "      <th>7</th>\n",
       "      <td>En la parte legal</td>\n",
       "      <td>Tecnología , viajes y cocina</td>\n",
       "    </tr>\n",
       "  </tbody>\n",
       "</table>\n",
       "</div>"
      ],
      "text/plain": [
       "  8. ¿En qué temas has necesitado ayuda personalizada de alguien?  \\\n",
       "0                                             Inglés                \n",
       "1                                Estudio, psicología                \n",
       "2                                          Emocional                \n",
       "3                                         Psicologia                \n",
       "7                                 En la parte legal                 \n",
       "\n",
       "  15. ¿Cuáles son tus temas de interés favoritos?  \n",
       "0                                          Música  \n",
       "1  Música, deportes, nutrición, ciencias sociales  \n",
       "2                                 Arte/Filosofía   \n",
       "3                       Deporte - comida - viajar  \n",
       "7                    Tecnología , viajes y cocina  "
      ]
     },
     "execution_count": 33,
     "metadata": {},
     "output_type": "execute_result"
    }
   ],
   "source": [
    "nopagado = H5[H5['11. ¿Has pagado por recibir una ayuda personalizada online de alguien?'] == 'No'][['8. ¿En qué temas has necesitado ayuda personalizada de alguien?', '15. ¿Cuáles son tus temas de interés favoritos?']]\n",
    "nopagado.head()"
   ]
  },
  {
   "cell_type": "code",
   "execution_count": 34,
   "metadata": {},
   "outputs": [
    {
     "name": "stdout",
     "output_type": "stream",
     "text": [
      "Inglés\n",
      "Estudio, psicología\n",
      "Emocional\n",
      "Psicologia\n",
      "En la parte legal \n",
      "Temas avanzados de marketing \n",
      "Tecnica\n",
      "Arquitectura, Ingenieria Civil, Derecho, Medicina, Sicologia\n",
      "Crecimiento personal\n",
      "En salud y emocional \n",
      "Sistemas\n",
      "Compras online \n",
      "Agricultura, medicina.\n",
      "matemáticas \n",
      "Dietas, alimentación \n",
      "Temas administrativos y sentimentales\n",
      "Empleo\n",
      "Publicidad \n",
      "Universidad, temas legales, temas médicos, psicólogo\n",
      "ayuda emocional\n",
      "Psicología, orientación\n",
      "A\n",
      "En el estudio \n",
      "NINGUNA\n",
      "Compra de vehiculo\n",
      "Temas de trabajo \n",
      "Ingles\n",
      "Marketing digital y manejo de redes sociales\n",
      "Temas de Tecnologia\n",
      "Ninguna\n",
      "Temas profesionales\n",
      "Trabajo \n",
      "Programación\n",
      "Cómo dictar clases de ultimate\n",
      "Planificación familiar\n",
      "Inversiones, pensiones \n",
      "Ejercicio y Trabajos de Ingeniería\n",
      "Ninguno\n",
      "Bancario\n",
      ".\n",
      "Psicológico y médico \n",
      "La verdad no lo haría a través de una plataforma \n",
      "Medicos\n",
      "san google, youtube, canales especializados del tema\n",
      "Matemáticas\n",
      "Salud y tecnológica\n",
      "Salud mental\n",
      "Psicológico y médico \n",
      "En manejo de aplicaciones\n",
      "Hijos adolescentes\n",
      "Sobre habilidades específicas\n",
      "Apoyo profesional \n",
      "Trastarno del sueño, ansiedad. Tristeza.\n"
     ]
    }
   ],
   "source": [
    "for i in nopagado['8. ¿En qué temas has necesitado ayuda personalizada de alguien?']:\n",
    "    print(i)"
   ]
  },
  {
   "cell_type": "markdown",
   "metadata": {},
   "source": [
    "## H7 los clientes más frecuentes de mentores.xyz seran personas que usan recursos digitales, proactivos, y que requieran consultoría"
   ]
  },
  {
   "cell_type": "code",
   "execution_count": 36,
   "metadata": {},
   "outputs": [],
   "source": [
    "H7 = results[['1. ¿Qué tan cómodo/a te sientes usando plataformas online para resolver tus problemas?', '3. ¿Qué tan fácil ha sido para ti encontrar a personas apasionadas por un tema que hayas necesitado?', '8. ¿En qué temas has necesitado ayuda personalizada de alguien?', '9. ¿Estás necesitando la ayuda personalizada de alguien?', 'Email Address']]"
   ]
  },
  {
   "cell_type": "code",
   "execution_count": 38,
   "metadata": {},
   "outputs": [
    {
     "name": "stdout",
     "output_type": "stream",
     "text": [
      "Inglés\n",
      "Psicologia\n",
      "Salud mental\n",
      "En la parte legal \n",
      "Tecnica\n",
      "Arquitectura, Ingenieria Civil, Derecho, Medicina, Sicologia\n",
      "Nutrición, autoestima, economía\n",
      "Compras online \n",
      "Sistemas\n",
      "Temas administrativos y sentimentales\n",
      "Universidad, temas legales, temas médicos, psicólogo\n",
      "ayuda emocional\n",
      "Psicología, orientación\n",
      "En el estudio \n",
      "Temas de trabajo \n",
      "Ingles\n",
      "Cómo dictar clases de ultimate\n",
      "Inversiones, pensiones \n",
      "Duelos y pérdidas \n",
      "Duelos y pérdidas \n",
      "Salud y tecnológica\n",
      "Salud mental\n",
      "En manejo de aplicaciones\n",
      "Sobre habilidades específicas\n",
      "Trastarno del sueño, ansiedad. Tristeza.\n",
      "Psicología \n"
     ]
    }
   ],
   "source": [
    "c1 = H7['1. ¿Qué tan cómodo/a te sientes usando plataformas online para resolver tus problemas?']>3\n",
    "for i in H7[c1][H7[c1]['9. ¿Estás necesitando la ayuda personalizada de alguien?'] != 'no']['8. ¿En qué temas has necesitado ayuda personalizada de alguien?']:\n",
    "    print(i)"
   ]
  },
  {
   "cell_type": "markdown",
   "metadata": {},
   "source": [
    "## H8 el rango de edad del público objetivo de mentores.xyz es de 18 a 64 años"
   ]
  },
  {
   "cell_type": "code",
   "execution_count": 39,
   "metadata": {},
   "outputs": [],
   "source": [
    "H8 = rsb[['16. ¿Qué edad tienes?', '10. ¿Quieres que te avisemos cuando creemos la primera versión funcional de http://www.mentores.xyz/ ?']].replace({'Sí': True, 'No': False})\n",
    "H81 = H8.groupby('16. ¿Qué edad tienes?').mean()\n",
    "H82 = H8.groupby('16. ¿Qué edad tienes?').count()"
   ]
  },
  {
   "cell_type": "code",
   "execution_count": 41,
   "metadata": {},
   "outputs": [
    {
     "data": {
      "text/html": [
       "<div>\n",
       "<style scoped>\n",
       "    .dataframe tbody tr th:only-of-type {\n",
       "        vertical-align: middle;\n",
       "    }\n",
       "\n",
       "    .dataframe tbody tr th {\n",
       "        vertical-align: top;\n",
       "    }\n",
       "\n",
       "    .dataframe thead tr th {\n",
       "        text-align: left;\n",
       "    }\n",
       "\n",
       "    .dataframe thead tr:last-of-type th {\n",
       "        text-align: right;\n",
       "    }\n",
       "</style>\n",
       "<table border=\"1\" class=\"dataframe\">\n",
       "  <thead>\n",
       "    <tr>\n",
       "      <th></th>\n",
       "      <th>Promedio</th>\n",
       "      <th>Total</th>\n",
       "    </tr>\n",
       "    <tr>\n",
       "      <th></th>\n",
       "      <th>10. ¿Quieres que te avisemos cuando creemos la primera versión funcional de http://www.mentores.xyz/ ?</th>\n",
       "      <th>10. ¿Quieres que te avisemos cuando creemos la primera versión funcional de http://www.mentores.xyz/ ?</th>\n",
       "    </tr>\n",
       "    <tr>\n",
       "      <th>16. ¿Qué edad tienes?</th>\n",
       "      <th></th>\n",
       "      <th></th>\n",
       "    </tr>\n",
       "  </thead>\n",
       "  <tbody>\n",
       "    <tr>\n",
       "      <th>18 o menos</th>\n",
       "      <td>1.000000</td>\n",
       "      <td>1</td>\n",
       "    </tr>\n",
       "    <tr>\n",
       "      <th>19-24</th>\n",
       "      <td>0.833333</td>\n",
       "      <td>12</td>\n",
       "    </tr>\n",
       "    <tr>\n",
       "      <th>25-34</th>\n",
       "      <td>0.823529</td>\n",
       "      <td>17</td>\n",
       "    </tr>\n",
       "    <tr>\n",
       "      <th>35-44</th>\n",
       "      <td>0.900000</td>\n",
       "      <td>10</td>\n",
       "    </tr>\n",
       "    <tr>\n",
       "      <th>45-64</th>\n",
       "      <td>0.923077</td>\n",
       "      <td>13</td>\n",
       "    </tr>\n",
       "  </tbody>\n",
       "</table>\n",
       "</div>"
      ],
      "text/plain": [
       "                                                                                                                    Promedio  \\\n",
       "                      10. ¿Quieres que te avisemos cuando creemos la primera versión funcional de http://www.mentores.xyz/ ?   \n",
       "16. ¿Qué edad tienes?                                                                                                          \n",
       "18 o menos                                                      1.000000                                                       \n",
       "19-24                                                           0.833333                                                       \n",
       "25-34                                                           0.823529                                                       \n",
       "35-44                                                           0.900000                                                       \n",
       "45-64                                                           0.923077                                                       \n",
       "\n",
       "                                                                                                                       Total  \n",
       "                      10. ¿Quieres que te avisemos cuando creemos la primera versión funcional de http://www.mentores.xyz/ ?  \n",
       "16. ¿Qué edad tienes?                                                                                                         \n",
       "18 o menos                                                             1                                                      \n",
       "19-24                                                                 12                                                      \n",
       "25-34                                                                 17                                                      \n",
       "35-44                                                                 10                                                      \n",
       "45-64                                                                 13                                                      "
      ]
     },
     "execution_count": 41,
     "metadata": {},
     "output_type": "execute_result"
    }
   ],
   "source": [
    "pd.concat([H81, H82], axis=1, keys=['Promedio', 'Total'])"
   ]
  },
  {
   "cell_type": "markdown",
   "metadata": {},
   "source": [
    "# Otras"
   ]
  },
  {
   "cell_type": "code",
   "execution_count": 41,
   "metadata": {},
   "outputs": [
    {
     "name": "stdout",
     "output_type": "stream",
     "text": [
      "TC\n",
      "Pse\n",
      "Nequi\n",
      "Tarjeta, pero no uso, padres\n",
      "PSE\n",
      "tarjeta de credito\n",
      "Pse\n",
      "pse \n",
      "PayPal \n",
      "Tarjetas crédito\n",
      "Tarjetas de crédito \n",
      "PSE\n",
      "PSE\n",
      "Débito\n",
      "No me gusta comprar por online, son muy engañosos y para reversar una adquisición es un problema y si se trata del dinero es peor.\n",
      "Tarjeta\n",
      "Tarjeta de crédito \n",
      "Contraentrega\n",
      "Giro\n",
      "tarjeta de crédito\n",
      "Tarjeta\n",
      "Tarjeta\n",
      "No utilizo\n",
      "Cuenta bancaria\n",
      "Transferencia \n",
      "Tarjeta de débito\n",
      "pse\n",
      "PSE\n",
      "Y\n",
      "CONTRA ENTREGA, Pse\n",
      "PSE \n",
      "Tarjeta\n",
      "Pse\n",
      "Tarjeta\n",
      "PSE\n",
      "No dese responder\n",
      "Tarjeta de credito\n",
      "Pse\n",
      "Tarjeta de crédito \n",
      "Debito\n",
      "Tarjeta de crédito\n",
      "Tarjeta \n",
      "Pse \n",
      "Tarjeta Crédito, PSE\n",
      "PSE\n",
      "Efectivo o efecty\n",
      "Tarjeta\n",
      "Credit card \n",
      "Tarjeta de crédito \n",
      "Tarjeta de crédito \n",
      "PSE\n",
      "PSE, esta deberias hacerla de selección multiple con otros\n",
      "Tarjeta de crédito \n",
      "No compro online\n",
      "Tarjeta de crédito \n",
      "Tarjeta de crédito mastercard\n",
      "Tarjeta\n",
      "Tarjeta de crédito \n",
      "Efectivo \n",
      "Tarjeta crédito\n",
      "Tarjeta de crédito\n",
      "Transferencia \n",
      "tarjeta\n",
      "Pse\n",
      "Tarjeta de crédito \n",
      "Tatjeta\n",
      "Tarjeta o transferencia. \n"
     ]
    }
   ],
   "source": [
    "for i in results[['13. ¿Cuál es tu método de pago principal cuando compras online?']]['13. ¿Cuál es tu método de pago principal cuando compras online?']:\n",
    "    print(i)"
   ]
  }
 ],
 "metadata": {
  "kernelspec": {
   "display_name": "Python 3",
   "language": "python",
   "name": "python3"
  },
  "language_info": {
   "codemirror_mode": {
    "name": "ipython",
    "version": 3
   },
   "file_extension": ".py",
   "mimetype": "text/x-python",
   "name": "python",
   "nbconvert_exporter": "python",
   "pygments_lexer": "ipython3",
   "version": "3.7.3"
  }
 },
 "nbformat": 4,
 "nbformat_minor": 2
}
